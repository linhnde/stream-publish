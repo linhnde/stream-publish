{
 "cells": [
  {
   "cell_type": "code",
   "id": "initial_id",
   "metadata": {
    "collapsed": true,
    "ExecuteTime": {
     "end_time": "2024-07-30T07:12:07.412453Z",
     "start_time": "2024-07-30T07:12:06.594795Z"
    }
   },
   "source": [
    "import time\n",
    "import gzip\n",
    "import logging\n",
    "import argparse\n",
    "import datetime\n",
    "from google.cloud import pubsub"
   ],
   "outputs": [],
   "execution_count": 1
  },
  {
   "metadata": {},
   "cell_type": "code",
   "outputs": [],
   "execution_count": null,
   "source": [
    "import os\n",
    "os.environ[\"GOOGLE_APPLICATION_CREDENTIALS\"] = \"pubsub-credentials.json\""
   ],
   "id": "2e453643b53c5b27"
  },
  {
   "metadata": {
    "ExecuteTime": {
     "end_time": "2024-07-30T07:12:07.418212Z",
     "start_time": "2024-07-30T07:12:07.414833Z"
    }
   },
   "cell_type": "code",
   "source": [
    "TIME_FORMAT = '%Y-%m-%d %H:%M:%S'\n",
    "TOPIC = 'test_publish'\n",
    "INPUT = 'sensor_obs2008.csv.gz'"
   ],
   "id": "f6180fc737c8131f",
   "outputs": [],
   "execution_count": 2
  },
  {
   "metadata": {},
   "cell_type": "code",
   "outputs": [],
   "execution_count": null,
   "source": [
    "def publish(publisher, topic, events):\n",
    "    numobs = len(events)\n",
    "    if numobs > 0:\n",
    "        logging.info('Publishing {0} events from {1}'.format(numobs, get_timestamp(events[0])))\n",
    "        for event_data in events:\n",
    "            publisher.publish(topic, event_data)"
   ],
   "id": "31027afe42b594ac"
  },
  {
   "metadata": {},
   "cell_type": "code",
   "outputs": [],
   "execution_count": null,
   "source": [
    "def get_timestamp(line):\n",
    "    ## convert from bytes to str\n",
    "    line = line.decode('utf-8')\n",
    "\n",
    "    # look at first field of row\n",
    "    timestamp = line.split(',')[0]\n",
    "    return datetime.datetime.strptime(timestamp, TIME_FORMAT)"
   ],
   "id": "a3beea547ecda217"
  },
  {
   "metadata": {},
   "cell_type": "code",
   "outputs": [],
   "execution_count": null,
   "source": [
    "def simulate(topic, ifp, firstObsTime, programStart, speedFactor):\n",
    "    # sleep computation\n",
    "    def compute_sleep_secs(obs_time):\n",
    "        time_elapsed = (datetime.datetime.now(datetime.UTC) - programStart).seconds\n",
    "        sim_time_elapsed = ((obs_time - firstObsTime).days * 86400.0 + (obs_time - firstObsTime).seconds) / speedFactor\n",
    "        to_sleep_secs = sim_time_elapsed - time_elapsed\n",
    "        return to_sleep_secs\n",
    "\n",
    "    topublish = list()\n",
    "\n",
    "    for line in ifp:\n",
    "        event_data = line  # entire line of input CSV is the message\n",
    "        obs_time = get_timestamp(line)  # from first column\n",
    "\n",
    "        # how much time should we sleep?\n",
    "        if compute_sleep_secs(obs_time) > 1:\n",
    "            # notify the accumulated topublish\n",
    "            publish(publisher, topic, topublish)  # notify accumulated messages\n",
    "            topublish = list()  # empty out list\n",
    "\n",
    "            # recompute sleep, since notification takes a while\n",
    "            to_sleep_secs = compute_sleep_secs(obs_time)\n",
    "            if to_sleep_secs > 0:\n",
    "                logging.info('Sleeping {} seconds'.format(to_sleep_secs))\n",
    "                time.sleep(to_sleep_secs)\n",
    "        topublish.append(event_data)\n",
    "\n",
    "    # left-over records; notify again\n",
    "    publish(publisher, topic, topublish)"
   ],
   "id": "80db8ae5c255759c"
  },
  {
   "metadata": {},
   "cell_type": "code",
   "outputs": [],
   "execution_count": null,
   "source": [
    "def peek_timestamp(ifp):\n",
    "    # peek ahead to next line, get timestamp and go back\n",
    "    pos = ifp.tell()\n",
    "    line = ifp.readline()\n",
    "    ifp.seek(pos)\n",
    "    return get_timestamp(line)"
   ],
   "id": "f8af489f87ab2105"
  },
  {
   "metadata": {},
   "cell_type": "code",
   "outputs": [],
   "execution_count": null,
   "source": [
    "parser = argparse.ArgumentParser(\n",
    "        description='Send sensor data to Cloud Pub/Sub in small groups, simulating real-time behavior')\n",
    "parser.add_argument('--speedFactor', help='Example: 60 implies 1 hour of data sent to Cloud Pub/Sub in 1 minute',\n",
    "                    required=True, type=float)\n",
    "parser.add_argument('--project', help='Example: --project $DEVSHELL_PROJECT_ID', required=True)\n",
    "args = parser.parse_args()\n",
    "\n",
    "# create Pub/Sub notification topic\n",
    "logging.basicConfig(format='%(levelname)s: %(message)s', level=logging.INFO)\n",
    "publisher = pubsub.PublisherClient()\n",
    "event_type = publisher.topic_path(args.project, TOPIC)\n",
    "try:\n",
    "    publisher.get_topic(event_type)\n",
    "    logging.info('Reusing pub/sub topic {}'.format(TOPIC))\n",
    "except:\n",
    "    publisher.create_topic(event_type)\n",
    "    logging.info('Creating pub/sub topic {}'.format(TOPIC))\n",
    "\n",
    "# notify about each line in the input file\n",
    "programStartTime = datetime.datetime.utcnow()\n",
    "with gzip.open(INPUT, 'rb') as ifp:\n",
    "    header = ifp.readline()  # skip header\n",
    "    firstObsTime = peek_timestamp(ifp)\n",
    "    logging.info('Sending sensor data from {}'.format(firstObsTime))\n",
    "    simulate(event_type, ifp, firstObsTime, programStartTime, args.speedFactor)"
   ],
   "id": "356a294de733b86b"
  }
 ],
 "metadata": {
  "kernelspec": {
   "display_name": "Python 3",
   "language": "python",
   "name": "python3"
  },
  "language_info": {
   "codemirror_mode": {
    "name": "ipython",
    "version": 2
   },
   "file_extension": ".py",
   "mimetype": "text/x-python",
   "name": "python",
   "nbconvert_exporter": "python",
   "pygments_lexer": "ipython2",
   "version": "2.7.6"
  }
 },
 "nbformat": 4,
 "nbformat_minor": 5
}
