{
 "cells": [
  {
   "cell_type": "code",
   "id": "initial_id",
   "metadata": {
    "collapsed": true,
    "ExecuteTime": {
     "end_time": "2024-08-06T03:32:10.471890Z",
     "start_time": "2024-08-06T03:32:09.433719Z"
    }
   },
   "source": [
    "import time\n",
    "import gzip\n",
    "import logging\n",
    "import argparse\n",
    "import datetime\n",
    "from google.cloud import pubsub"
   ],
   "outputs": [],
   "execution_count": 1
  },
  {
   "metadata": {
    "ExecuteTime": {
     "end_time": "2024-08-06T03:32:14.100079Z",
     "start_time": "2024-08-06T03:32:14.096898Z"
    }
   },
   "cell_type": "code",
   "source": [
    "import os\n",
    "os.environ[\"GOOGLE_APPLICATION_CREDENTIALS\"] = \"pubsub-credentials.json\""
   ],
   "id": "2e453643b53c5b27",
   "outputs": [],
   "execution_count": 2
  },
  {
   "metadata": {
    "ExecuteTime": {
     "end_time": "2024-08-06T03:32:16.935237Z",
     "start_time": "2024-08-06T03:32:16.931492Z"
    }
   },
   "cell_type": "code",
   "source": [
    "TIME_FORMAT = '%Y-%m-%d %H:%M:%S'\n",
    "TOPIC = 'test_publish'\n",
    "INPUT = 'sensor_obs2008.csv.gz'"
   ],
   "id": "f6180fc737c8131f",
   "outputs": [],
   "execution_count": 3
  },
  {
   "metadata": {
    "ExecuteTime": {
     "end_time": "2024-08-06T03:32:20.373617Z",
     "start_time": "2024-08-06T03:32:20.369921Z"
    }
   },
   "cell_type": "code",
   "source": [
    "def publish(publisher, topic, events):\n",
    "    numobs = len(events)\n",
    "    if numobs > 0:\n",
    "        logging.info('Publishing {0} events from {1}'.format(numobs, get_timestamp(events[0])))\n",
    "        for event_data in events:\n",
    "            publisher.publish(topic, event_data)"
   ],
   "id": "31027afe42b594ac",
   "outputs": [],
   "execution_count": 4
  },
  {
   "metadata": {
    "ExecuteTime": {
     "end_time": "2024-08-06T03:32:21.301560Z",
     "start_time": "2024-08-06T03:32:21.297437Z"
    }
   },
   "cell_type": "code",
   "source": [
    "def get_timestamp(line):\n",
    "    ## convert from bytes to str\n",
    "    line = line.decode('utf-8')\n",
    "\n",
    "    # look at first field of row\n",
    "    timestamp = line.split(',')[0]\n",
    "    return datetime.datetime.strptime(timestamp, TIME_FORMAT)"
   ],
   "id": "a3beea547ecda217",
   "outputs": [],
   "execution_count": 5
  },
  {
   "metadata": {
    "ExecuteTime": {
     "end_time": "2024-08-06T03:32:22.563574Z",
     "start_time": "2024-08-06T03:32:22.555787Z"
    }
   },
   "cell_type": "code",
   "source": [
    "def simulate(topic, ifp, firstObsTime, programStart, speedFactor):\n",
    "    # sleep computation\n",
    "    def compute_sleep_secs(obs_time):\n",
    "        time_elapsed = (datetime.datetime.now(datetime.UTC) - programStart).seconds\n",
    "        sim_time_elapsed = ((obs_time - firstObsTime).days * 86400.0 + (obs_time - firstObsTime).seconds) / speedFactor\n",
    "        to_sleep_secs = sim_time_elapsed - time_elapsed\n",
    "        return to_sleep_secs\n",
    "\n",
    "    topublish = list()\n",
    "\n",
    "    for line in ifp:\n",
    "        event_data = line  # entire line of input CSV is the message\n",
    "        obs_time = get_timestamp(line)  # from first column\n",
    "\n",
    "        # how much time should we sleep?\n",
    "        if compute_sleep_secs(obs_time) > 1:\n",
    "            # notify the accumulated topublish\n",
    "            publish(publisher, topic, topublish)  # notify accumulated messages\n",
    "            topublish = list()  # empty out list\n",
    "\n",
    "            # recompute sleep, since notification takes a while\n",
    "            to_sleep_secs = compute_sleep_secs(obs_time)\n",
    "            if to_sleep_secs > 0:\n",
    "                logging.info('Sleeping {} seconds'.format(to_sleep_secs))\n",
    "                time.sleep(to_sleep_secs)\n",
    "        topublish.append(event_data)\n",
    "\n",
    "    # left-over records; notify again\n",
    "    publish(publisher, topic, topublish)"
   ],
   "id": "80db8ae5c255759c",
   "outputs": [],
   "execution_count": 6
  },
  {
   "metadata": {
    "ExecuteTime": {
     "end_time": "2024-08-06T03:32:24.605243Z",
     "start_time": "2024-08-06T03:32:24.601403Z"
    }
   },
   "cell_type": "code",
   "source": [
    "def peek_timestamp(ifp):\n",
    "    # peek ahead to next line, get timestamp and go back\n",
    "    pos = ifp.tell()\n",
    "    line = ifp.readline()\n",
    "    ifp.seek(pos)\n",
    "    return get_timestamp(line)"
   ],
   "id": "f8af489f87ab2105",
   "outputs": [],
   "execution_count": 7
  },
  {
   "metadata": {
    "ExecuteTime": {
     "end_time": "2024-08-06T03:32:25.952023Z",
     "start_time": "2024-08-06T03:32:25.922396Z"
    }
   },
   "cell_type": "code",
   "source": [
    "parser = argparse.ArgumentParser(\n",
    "        description='Send sensor data to Cloud Pub/Sub in small groups, simulating real-time behavior')\n",
    "parser.add_argument('--speedFactor', help='Example: 60 implies 1 hour of data sent to Cloud Pub/Sub in 1 minute',\n",
    "                    required=True, type=float)\n",
    "parser.add_argument('--project', help='Example: --project $DEVSHELL_PROJECT_ID', required=True)\n",
    "args = parser.parse_args()\n",
    "\n",
    "# create Pub/Sub notification topic\n",
    "logging.basicConfig(format='%(levelname)s: %(message)s', level=logging.INFO)\n",
    "publisher = pubsub.PublisherClient()\n",
    "event_type = publisher.topic_path(args.project, TOPIC)\n",
    "try:\n",
    "    publisher.get_topic(event_type)\n",
    "    logging.info('Reusing pub/sub topic {}'.format(TOPIC))\n",
    "except:\n",
    "    publisher.create_topic(event_type)\n",
    "    logging.info('Creating pub/sub topic {}'.format(TOPIC))\n",
    "\n",
    "# notify about each line in the input file\n",
    "programStartTime = datetime.datetime.utcnow()\n",
    "with gzip.open(INPUT, 'rb') as ifp:\n",
    "    header = ifp.readline()  # skip header\n",
    "    firstObsTime = peek_timestamp(ifp)\n",
    "    logging.info('Sending sensor data from {}'.format(firstObsTime))\n",
    "    simulate(event_type, ifp, firstObsTime, programStartTime, args.speedFactor)"
   ],
   "id": "356a294de733b86b",
   "outputs": [
    {
     "name": "stderr",
     "output_type": "stream",
     "text": [
      "usage: ipykernel_launcher.py [-h] --speedFactor SPEEDFACTOR --project PROJECT\n",
      "ipykernel_launcher.py: error: the following arguments are required: --speedFactor, --project\n"
     ]
    },
    {
     "ename": "SystemExit",
     "evalue": "2",
     "output_type": "error",
     "traceback": [
      "An exception has occurred, use %tb to see the full traceback.\n",
      "\u001B[1;31mSystemExit\u001B[0m\u001B[1;31m:\u001B[0m 2\n"
     ]
    },
    {
     "name": "stderr",
     "output_type": "stream",
     "text": [
      "C:\\Users\\Linh\\PycharmProjects\\stream-publish\\.venv\\Lib\\site-packages\\IPython\\core\\interactiveshell.py:3585: UserWarning: To exit: use 'exit', 'quit', or Ctrl-D.\n",
      "  warn(\"To exit: use 'exit', 'quit', or Ctrl-D.\", stacklevel=1)\n"
     ]
    }
   ],
   "execution_count": 8
  },
  {
   "metadata": {},
   "cell_type": "code",
   "outputs": [],
   "execution_count": null,
   "source": "",
   "id": "43f6cc8c9bb4703e"
  }
 ],
 "metadata": {
  "kernelspec": {
   "display_name": "Python 3",
   "language": "python",
   "name": "python3"
  },
  "language_info": {
   "codemirror_mode": {
    "name": "ipython",
    "version": 2
   },
   "file_extension": ".py",
   "mimetype": "text/x-python",
   "name": "python",
   "nbconvert_exporter": "python",
   "pygments_lexer": "ipython2",
   "version": "2.7.6"
  }
 },
 "nbformat": 4,
 "nbformat_minor": 5
}
